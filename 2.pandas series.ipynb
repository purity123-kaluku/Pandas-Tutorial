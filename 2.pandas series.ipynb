{
 "cells": [
  {
   "cell_type": "markdown",
   "id": "9e141137-1f25-4e33-9516-c0dc770ced04",
   "metadata": {},
   "source": [
    "## pandas series\n",
    "- `A Pandas Series is like a column in a table.`\n",
    "- `It is a one-dimensional array holding data of any type.`"
   ]
  },
  {
   "cell_type": "code",
   "execution_count": 35,
   "id": "7a9cc36b-c76c-456b-a973-e6da95147344",
   "metadata": {},
   "outputs": [
    {
     "name": "stdout",
     "output_type": "stream",
     "text": [
      "0    1.0\n",
      "1    7.0\n",
      "2    2.0\n",
      "Name: nums, dtype: float32\n"
     ]
    }
   ],
   "source": [
    "import pandas as pd    #Create a simple Pandas Series from a list\n",
    "\n",
    "a = [1, 7, 2]\n",
    "\n",
    "myvar = pd.Series(a, dtype='float32', name='nums')\n",
    "\n",
    "print(myvar)"
   ]
  },
  {
   "cell_type": "code",
   "execution_count": 17,
   "id": "f9dee581-792e-4db9-bfd9-c87b665fc1dc",
   "metadata": {},
   "outputs": [
    {
     "data": {
      "text/plain": [
       "RangeIndex(start=0, stop=3, step=1)"
      ]
     },
     "execution_count": 17,
     "metadata": {},
     "output_type": "execute_result"
    }
   ],
   "source": [
    "myvar.index"
   ]
  },
  {
   "cell_type": "code",
   "execution_count": 18,
   "id": "7a9375fe-b924-4c7e-906e-8788f8afc0af",
   "metadata": {},
   "outputs": [
    {
     "data": {
      "text/plain": [
       "<NumpyExtensionArray>\n",
       "[1, 7, 2]\n",
       "Length: 3, dtype: int64"
      ]
     },
     "execution_count": 18,
     "metadata": {},
     "output_type": "execute_result"
    }
   ],
   "source": [
    "myvar.array"
   ]
  },
  {
   "cell_type": "code",
   "execution_count": 21,
   "id": "a8f78fd4-2445-4546-a634-a592db77356f",
   "metadata": {},
   "outputs": [
    {
     "data": {
      "text/plain": [
       "array([1, 7, 2], dtype=int64)"
      ]
     },
     "execution_count": 21,
     "metadata": {},
     "output_type": "execute_result"
    }
   ],
   "source": [
    "myvar.values"
   ]
  },
  {
   "cell_type": "code",
   "execution_count": 22,
   "id": "2063e7cc-6110-4a9a-a69a-6012cff57305",
   "metadata": {},
   "outputs": [
    {
     "data": {
      "text/plain": [
       "dtype('int64')"
      ]
     },
     "execution_count": 22,
     "metadata": {},
     "output_type": "execute_result"
    }
   ],
   "source": [
    "myvar.dtype"
   ]
  },
  {
   "cell_type": "code",
   "execution_count": 23,
   "id": "1ca15673-658f-4638-938b-44fb22f36405",
   "metadata": {},
   "outputs": [
    {
     "data": {
      "text/plain": [
       "(3,)"
      ]
     },
     "execution_count": 23,
     "metadata": {},
     "output_type": "execute_result"
    }
   ],
   "source": [
    "myvar.shape"
   ]
  },
  {
   "cell_type": "code",
   "execution_count": 24,
   "id": "a0e489f5-18ef-4054-b8b1-4dd28e5d450b",
   "metadata": {},
   "outputs": [
    {
     "data": {
      "text/plain": [
       "24"
      ]
     },
     "execution_count": 24,
     "metadata": {},
     "output_type": "execute_result"
    }
   ],
   "source": [
    "myvar.nbytes"
   ]
  },
  {
   "cell_type": "code",
   "execution_count": 25,
   "id": "15314eee-f231-4c12-9a39-6a5ede4a7c9e",
   "metadata": {},
   "outputs": [
    {
     "data": {
      "text/plain": [
       "1"
      ]
     },
     "execution_count": 25,
     "metadata": {},
     "output_type": "execute_result"
    }
   ],
   "source": [
    "myvar.ndim"
   ]
  },
  {
   "cell_type": "code",
   "execution_count": 26,
   "id": "3f036cae-e04a-4004-888f-a69789b9718c",
   "metadata": {},
   "outputs": [
    {
     "data": {
      "text/plain": [
       "3"
      ]
     },
     "execution_count": 26,
     "metadata": {},
     "output_type": "execute_result"
    }
   ],
   "source": [
    "myvar.size"
   ]
  },
  {
   "cell_type": "code",
   "execution_count": 28,
   "id": "7f976ceb-791e-4286-9af7-e5eeea637c65",
   "metadata": {},
   "outputs": [
    {
     "data": {
      "text/plain": [
       "(3,)"
      ]
     },
     "execution_count": 28,
     "metadata": {},
     "output_type": "execute_result"
    }
   ],
   "source": [
    "myvar.T.shape"
   ]
  },
  {
   "cell_type": "code",
   "execution_count": 32,
   "id": "811aca1e-452c-4581-83ae-7c913c60146e",
   "metadata": {},
   "outputs": [
    {
     "data": {
      "text/plain": [
       "0    1.0\n",
       "1    7.0\n",
       "2    2.0\n",
       "Name: nums, dtype: float32"
      ]
     },
     "execution_count": 32,
     "metadata": {},
     "output_type": "execute_result"
    }
   ],
   "source": [
    "myvar.astype('float32')"
   ]
  },
  {
   "cell_type": "code",
   "execution_count": 33,
   "id": "082bb49f-ace5-4de1-bc90-cf238ac65f0b",
   "metadata": {},
   "outputs": [
    {
     "data": {
      "text/plain": [
       "0    1\n",
       "1    7\n",
       "2    2\n",
       "Name: nums, dtype: int64"
      ]
     },
     "execution_count": 33,
     "metadata": {},
     "output_type": "execute_result"
    }
   ],
   "source": [
    "myvar1 = myvar.copy()\n",
    "myvar1"
   ]
  },
  {
   "cell_type": "code",
   "execution_count": 34,
   "id": "5aa6eaf1-3001-475e-9dab-a3a61fd65d06",
   "metadata": {},
   "outputs": [
    {
     "data": {
      "text/plain": [
       "[1, 7, 2]"
      ]
     },
     "execution_count": 34,
     "metadata": {},
     "output_type": "execute_result"
    }
   ],
   "source": [
    "myvar.to_list()"
   ]
  },
  {
   "cell_type": "code",
   "execution_count": null,
   "id": "8d467377-4e4d-4095-a401-0ded9894611f",
   "metadata": {},
   "outputs": [],
   "source": []
  },
  {
   "cell_type": "code",
   "execution_count": null,
   "id": "e559c61e-c926-4dbb-ae86-d40795c1f5d1",
   "metadata": {},
   "outputs": [],
   "source": []
  },
  {
   "cell_type": "code",
   "execution_count": null,
   "id": "86afeb78-b3b9-46fb-a56a-47fc5bdf298a",
   "metadata": {},
   "outputs": [],
   "source": []
  },
  {
   "cell_type": "code",
   "execution_count": 2,
   "id": "d0a20ef6-3206-4b0e-bc98-a53ccb859d06",
   "metadata": {},
   "outputs": [
    {
     "data": {
      "text/plain": [
       "apple     3\n",
       "banana    7\n",
       "orange    5\n",
       "dtype: int64"
      ]
     },
     "execution_count": 2,
     "metadata": {},
     "output_type": "execute_result"
    }
   ],
   "source": [
    "import pandas as pd\n",
    "\n",
    "# Create a dictionary\n",
    "data = {'apple': 3, 'banana': 7, 'orange': 5}\n",
    "\n",
    "# Create a Pandas Series from the dictionary\n",
    "fruits = pd.Series(data)\n",
    "\n",
    "fruits"
   ]
  },
  {
   "cell_type": "code",
   "execution_count": 8,
   "id": "94585205-35a8-40f0-b552-e4baed832102",
   "metadata": {},
   "outputs": [
    {
     "data": {
      "text/plain": [
       "harrier    5\n",
       "range      2\n",
       "tx         4\n",
       "dtype: int64"
      ]
     },
     "execution_count": 8,
     "metadata": {},
     "output_type": "execute_result"
    }
   ],
   "source": [
    "import pandas as pd\n",
    "\n",
    "x = {'harrier': 5,'range': 2,'tx': 4}\n",
    "cars = pd.Series(x)\n",
    "cars\n"
   ]
  },
  {
   "cell_type": "markdown",
   "id": "cb7b9be4-0cf0-4233-9240-13bab78708b0",
   "metadata": {},
   "source": [
    "## Labels\n",
    "If nothing else is specified, the values are labeled with their index number"
   ]
  },
  {
   "cell_type": "code",
   "execution_count": 15,
   "id": "67ce0650-b888-414a-bec7-e83336910df4",
   "metadata": {},
   "outputs": [
    {
     "name": "stdout",
     "output_type": "stream",
     "text": [
      "2\n"
     ]
    }
   ],
   "source": [
    "print(cars.iloc[1])"
   ]
  },
  {
   "cell_type": "markdown",
   "id": "ee5bddf5-4ad1-42d9-bfac-c897b2993e49",
   "metadata": {},
   "source": [
    "## Creating Labels"
   ]
  },
  {
   "cell_type": "code",
   "execution_count": 10,
   "id": "27669ddb-40f6-4bcd-ae53-7bb8a953082f",
   "metadata": {},
   "outputs": [
    {
     "name": "stdout",
     "output_type": "stream",
     "text": [
      "x    1\n",
      "y    7\n",
      "z    2\n",
      "dtype: int64\n"
     ]
    }
   ],
   "source": [
    "import pandas as pd\n",
    "\n",
    "a = [1, 7, 2]\n",
    "\n",
    "myvar = pd.Series(a, index = [\"x\", \"y\", \"z\"])\n",
    "\n",
    "print(myvar)"
   ]
  },
  {
   "cell_type": "markdown",
   "id": "cfd5f9ab-a35a-4a70-aa21-fc1312561113",
   "metadata": {},
   "source": [
    "## Key/Value Objects as Series\n"
   ]
  },
  {
   "cell_type": "code",
   "execution_count": 11,
   "id": "451c92a9-21be-48d5-bfe6-87e76282747a",
   "metadata": {},
   "outputs": [
    {
     "name": "stdout",
     "output_type": "stream",
     "text": [
      "day1    420\n",
      "day2    380\n",
      "day3    390\n",
      "dtype: int64\n"
     ]
    }
   ],
   "source": [
    "import pandas as pd\n",
    "\n",
    "calories = {\"day1\": 420, \"day2\": 380, \"day3\": 390}\n",
    "\n",
    "myvar = pd.Series(calories)\n",
    "\n",
    "print(myvar)"
   ]
  },
  {
   "cell_type": "code",
   "execution_count": 12,
   "id": "08c4d585-a3fe-4c4e-a9bf-47d450da5aa3",
   "metadata": {},
   "outputs": [
    {
     "name": "stdout",
     "output_type": "stream",
     "text": [
      "day1    420\n",
      "day2    380\n",
      "dtype: int64\n"
     ]
    }
   ],
   "source": [
    "import pandas as pd                                   #Create a Series using only data from \"day1\" and \"day2\":\n",
    "\n",
    "calories = {\"day1\": 420, \"day2\": 380, \"day3\": 390}\n",
    "\n",
    "myvar = pd.Series(calories, index = [\"day1\", \"day2\"])\n",
    "\n",
    "print(myvar)"
   ]
  },
  {
   "cell_type": "markdown",
   "id": "29991a79-2b8b-48a7-9dd7-e19144e126ac",
   "metadata": {},
   "source": [
    "## DataFrames\n",
    "- `Data sets in Pandas are usually multi-dimensional tables, called DataFrames.`\n",
    "- `Series is like a column, a DataFrame is the whole table.`"
   ]
  },
  {
   "cell_type": "code",
   "execution_count": 13,
   "id": "41789ecd-63d1-44a6-a259-75c1dce3750e",
   "metadata": {},
   "outputs": [
    {
     "name": "stdout",
     "output_type": "stream",
     "text": [
      "   calories  duration\n",
      "0       420        50\n",
      "1       380        40\n",
      "2       390        45\n"
     ]
    }
   ],
   "source": [
    "import pandas as pd              #Create a DataFrame from two Series\n",
    "\n",
    "data = {\n",
    "  \"calories\": [420, 380, 390],\n",
    "  \"duration\": [50, 40, 45]\n",
    "}\n",
    "\n",
    "myvar = pd.DataFrame(data)\n",
    "\n",
    "print(myvar)"
   ]
  },
  {
   "cell_type": "code",
   "execution_count": null,
   "id": "b5806ba6-1c88-43da-8318-3097a7ffb636",
   "metadata": {},
   "outputs": [],
   "source": []
  }
 ],
 "metadata": {
  "kernelspec": {
   "display_name": "Python 3 (ipykernel)",
   "language": "python",
   "name": "python3"
  },
  "language_info": {
   "codemirror_mode": {
    "name": "ipython",
    "version": 3
   },
   "file_extension": ".py",
   "mimetype": "text/x-python",
   "name": "python",
   "nbconvert_exporter": "python",
   "pygments_lexer": "ipython3",
   "version": "3.9.0"
  }
 },
 "nbformat": 4,
 "nbformat_minor": 5
}
