{
 "cells": [
  {
   "cell_type": "markdown",
   "id": "a27ca1b7-70a2-46d9-9d9b-74f7dabc3b80",
   "metadata": {},
   "source": [
    "## pandas introduction\n",
    "- `-Pandas is a Python library used for working with data sets`\n",
    "- `-It has functions for analyzing, cleaning, exploring, and manipulating data.`\n",
    "- `-Pandas allows us to analyze big data and make conclusions based on statistical theories`\n",
    "- `-Pandas can clean messy data sets, and make them readable and relevant.`"
   ]
  },
  {
   "cell_type": "markdown",
   "id": "d2ffeff9-2891-4f0d-91b2-7f0a5438d46a",
   "metadata": {},
   "source": [
    "## Installation of Pandas\n",
    "` If you have Python and PIP already installed on a system, then installation of Pandas is very easy.`\n",
    "\n",
    "` Install it using this command:`"
   ]
  },
  {
   "cell_type": "code",
   "execution_count": 8,
   "id": "eb5c0f4a-62fb-4387-9a08-314acf5eeb1c",
   "metadata": {},
   "outputs": [
    {
     "ename": "SyntaxError",
     "evalue": "unexpected character after line continuation character (811206052.py, line 1)",
     "output_type": "error",
     "traceback": [
      "\u001b[1;36m  Cell \u001b[1;32mIn[8], line 1\u001b[1;36m\u001b[0m\n\u001b[1;33m    C:\\Users\\sa>pip install pandas\u001b[0m\n\u001b[1;37m                                  ^\u001b[0m\n\u001b[1;31mSyntaxError\u001b[0m\u001b[1;31m:\u001b[0m unexpected character after line continuation character\n"
     ]
    }
   ],
   "source": [
    "C:\\Users\\>pip install pandas"
   ]
  },
  {
   "cell_type": "markdown",
   "id": "09f20461-664d-4a7e-bef9-0831086d170a",
   "metadata": {},
   "source": [
    "## Pandas as pd\n",
    "- `Pandas is usually imported under the pd alias.`\n",
    "- `Create an alias with the as keyword while importing:`"
   ]
  },
  {
   "cell_type": "code",
   "execution_count": 5,
   "id": "1e6e022b-8253-4b5a-a9cd-aeb5de781537",
   "metadata": {},
   "outputs": [
    {
     "data": {
      "text/html": [
       "<div>\n",
       "<style scoped>\n",
       "    .dataframe tbody tr th:only-of-type {\n",
       "        vertical-align: middle;\n",
       "    }\n",
       "\n",
       "    .dataframe tbody tr th {\n",
       "        vertical-align: top;\n",
       "    }\n",
       "\n",
       "    .dataframe thead th {\n",
       "        text-align: right;\n",
       "    }\n",
       "</style>\n",
       "<table border=\"1\" class=\"dataframe\">\n",
       "  <thead>\n",
       "    <tr style=\"text-align: right;\">\n",
       "      <th></th>\n",
       "      <th>cars</th>\n",
       "      <th>passings</th>\n",
       "    </tr>\n",
       "  </thead>\n",
       "  <tbody>\n",
       "    <tr>\n",
       "      <th>0</th>\n",
       "      <td>BMW</td>\n",
       "      <td>3</td>\n",
       "    </tr>\n",
       "    <tr>\n",
       "      <th>1</th>\n",
       "      <td>Volvo</td>\n",
       "      <td>7</td>\n",
       "    </tr>\n",
       "    <tr>\n",
       "      <th>2</th>\n",
       "      <td>Ford</td>\n",
       "      <td>2</td>\n",
       "    </tr>\n",
       "  </tbody>\n",
       "</table>\n",
       "</div>"
      ],
      "text/plain": [
       "    cars  passings\n",
       "0    BMW         3\n",
       "1  Volvo         7\n",
       "2   Ford         2"
      ]
     },
     "execution_count": 5,
     "metadata": {},
     "output_type": "execute_result"
    }
   ],
   "source": [
    "import pandas as pd\n",
    "\n",
    "mydataset = {\n",
    "  'cars': [\"BMW\", \"Volvo\", \"Ford\"],\n",
    "  'passings': [3, 7, 2]\n",
    "}\n",
    "\n",
    "myvar = pd.DataFrame(mydataset)\n",
    "\n",
    "myvar"
   ]
  },
  {
   "cell_type": "markdown",
   "id": "75437605-0d32-40a2-ab85-738a44bef052",
   "metadata": {},
   "source": [
    "## Checking Pandas Version\n",
    "The version string is stored under`__version__ `attribute."
   ]
  },
  {
   "cell_type": "code",
   "execution_count": 6,
   "id": "a601e899-ace7-443b-a23b-cfe39e947649",
   "metadata": {},
   "outputs": [
    {
     "name": "stdout",
     "output_type": "stream",
     "text": [
      "2.2.2\n"
     ]
    }
   ],
   "source": [
    "import pandas as pd\n",
    "\n",
    "print(pd.__version__)"
   ]
  },
  {
   "cell_type": "code",
   "execution_count": null,
   "id": "5c442afb-6af8-4bda-b907-a3705fb29724",
   "metadata": {},
   "outputs": [],
   "source": []
  }
 ],
 "metadata": {
  "kernelspec": {
   "display_name": "Python 3 (ipykernel)",
   "language": "python",
   "name": "python3"
  },
  "language_info": {
   "codemirror_mode": {
    "name": "ipython",
    "version": 3
   },
   "file_extension": ".py",
   "mimetype": "text/x-python",
   "name": "python",
   "nbconvert_exporter": "python",
   "pygments_lexer": "ipython3",
   "version": "3.9.0"
  }
 },
 "nbformat": 4,
 "nbformat_minor": 5
}
